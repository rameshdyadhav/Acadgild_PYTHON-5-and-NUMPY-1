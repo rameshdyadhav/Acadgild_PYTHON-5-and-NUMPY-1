{
 "cells": [
  {
   "cell_type": "markdown",
   "metadata": {},
   "source": [
    "# Task 1:"
   ]
  },
  {
   "cell_type": "markdown",
   "metadata": {},
   "source": [
    "### 1. Write a function to compute 5/0 and use try/except to catch the exceptions."
   ]
  },
  {
   "cell_type": "code",
   "execution_count": 1,
   "metadata": {},
   "outputs": [
    {
     "data": {
      "text/plain": [
       "ZeroDivisionError"
      ]
     },
     "execution_count": 1,
     "metadata": {},
     "output_type": "execute_result"
    }
   ],
   "source": [
    "'''\n",
    "This program implements a function to compute 5/0 and use try/except to catch the exceptions.\n",
    "'''\n",
    "def compute_div_by_zero(x,y): #Defining compute_div_by_zero function which takes two arguments (x, y) and computes x/y and catches ZeroDivisionError exception.\n",
    "    try:\n",
    "        return x/y \n",
    "    except ZeroDivisionError: #Catching ZeroDivisionError\n",
    "        return ZeroDivisionError\n",
    "    \n",
    "compute_div_by_zero(5,0)"
   ]
  },
  {
   "cell_type": "markdown",
   "metadata": {},
   "source": [
    "### 2. Implement a Python program to generate all sentences where subject is in [\"Americans\",\"Indians\"] and verb is in [\"Play\", \"watch\"] and the object is in [\"Baseball\",\"cricket\"].\n",
    "<p>Hint: Subject,Verb and Object should be declared in the program as shown below.<br/>\n",
    "subjects=[\"Americans \",\"Indians\"]<br/>\n",
    "verbs=[\"play\",\"watch\"]<br/>\n",
    "objects=[\"Baseball\",\"Cricket\"]<br/><br/>\n",
    "<strong>Output should come as below:</strong><br/>\n",
    "Americans play Baseball.<br/>\n",
    "Americans play Cricket.<br/>\n",
    "Americans watch Baseball.<br/>\n",
    "Americans watch Cricket.<br/>\n",
    "Indians play Baseball.<br/>\n",
    "Indians play Cricket.<br/>\n",
    "Indians watch Baseball.<br/>\n",
    "Indians watch Cricket.</p>"
   ]
  },
  {
   "cell_type": "code",
   "execution_count": 2,
   "metadata": {},
   "outputs": [
    {
     "name": "stdout",
     "output_type": "stream",
     "text": [
      "Americans play Baseball.\n",
      "Americans play Cricket.\n",
      "Americans watch Baseball.\n",
      "Americans watch Cricket.\n",
      "Indians play Baseball.\n",
      "Indians play Cricket.\n",
      "Indians watch Baseball.\n",
      "Indians watch Cricket.\n"
     ]
    }
   ],
   "source": [
    "'''\n",
    "This program generates all sentences where subject is in [\"Americans\",\"Indians\"] and verb is in [\"Play\", \"watch\"] and the object is in [\"Baseball\",\"cricket\"].\n",
    "'''\n",
    "subjects=[\"Americans\",\"Indians\"] #Creating list of subjects\n",
    "verbs=[\"play\",\"watch\"] #Creating list of verbs\n",
    "objects=[\"Baseball\",\"Cricket\"] #Creating list of objects \n",
    "for subject in subjects:\n",
    "    for verb in verbs:\n",
    "        for obj in objects:\n",
    "            print (subject +\" \"+ verb + \" \"+ obj + '.') #Printing the sentences"
   ]
  },
  {
   "cell_type": "markdown",
   "metadata": {},
   "source": [
    "# Task 2:"
   ]
  },
  {
   "cell_type": "markdown",
   "metadata": {},
   "source": [
    "### 1. Write a function so that the columns of the output matrix are powers of the input vector. The order of the powers is determined by the increasing boolean argument. Specifically, when increasing is False, the i-th output column is the input vector raised element-wise to the power of N - i - 1.\n",
    "<p>HINT: Such a matrix with a geometric progression in each row is named for Alexandre-\n",
    "Theophile Vandermonde. </p>"
   ]
  },
  {
   "cell_type": "code",
   "execution_count": 3,
   "metadata": {},
   "outputs": [
    {
     "data": {
      "text/plain": [
       "array([[ 1,  1,  1,  1],\n",
       "       [ 1,  2,  4,  8],\n",
       "       [ 1,  3,  9, 27],\n",
       "       [ 1,  4, 16, 64]])"
      ]
     },
     "execution_count": 3,
     "metadata": {},
     "output_type": "execute_result"
    }
   ],
   "source": [
    "'''\n",
    "This program implements a function compute_matrix so that the columns of the output matrix are powers of the input vector.\n",
    "The order of the powers is determined by the increasing boolean argument. Specifically, when\n",
    "increasing is False, the i-th output column is the input vector raised element-wise to the power\n",
    "of N - i - 1.\n",
    "'''\n",
    "import numpy as np\n",
    "def compute_matrix(x,y): #Defining compute_matrix function which takes two arguments (a list and a boolean) and returns the matrix whose columns are powers of the input vector.\n",
    "    return np.vander(np.array(x), increasing =y)\n",
    "\n",
    "compute_matrix([1,2,3,4],True)"
   ]
  },
  {
   "cell_type": "code",
   "execution_count": null,
   "metadata": {},
   "outputs": [],
   "source": []
  }
 ],
 "metadata": {
  "kernelspec": {
   "display_name": "Python 3",
   "language": "python",
   "name": "python3"
  },
  "language_info": {
   "codemirror_mode": {
    "name": "ipython",
    "version": 3
   },
   "file_extension": ".py",
   "mimetype": "text/x-python",
   "name": "python",
   "nbconvert_exporter": "python",
   "pygments_lexer": "ipython3",
   "version": "3.7.1"
  }
 },
 "nbformat": 4,
 "nbformat_minor": 2
}
